{
 "cells": [
  {
   "cell_type": "markdown",
   "id": "4799ddfa-30cb-4b9e-b04c-d2b5c9de8dd6",
   "metadata": {},
   "source": [
    "### Q1. What is data encoding? How is it useful in data science?\n",
    "\n",
    "### Q2. What is nominal encoding? Provide an example of how you would use it in a real-world scenario.\n",
    "\n",
    "### Q3. In what situations is nominal encoding preferred over one-hot encoding? Provide a practical example.\n",
    "\n",
    "### Q4. Suppose you have a dataset containing categorical data with 5 unique values. Which encoding technique would you use to transform this data into a format suitable for machine learning algorithms? Explain why you made this choice.\n",
    "\n",
    "### Q5. In a machine learning project, you have a dataset with 1000 rows and 5 columns. Two of the columns are categorical, and the remaining three columns are numerical. If you were to use nominal encoding to transform the categorical data, how many new columns would be created? Show your calculations.\n",
    "\n",
    "### Q6. You are working with a dataset containing information about different types of animals, including their species, habitat, and diet. Which encoding technique would you use to transform the categorical data into a format suitable for machine learning algorithms? Justify your answer.\n",
    "\n",
    "### Q7.You are working on a project that involves predicting customer churn for a telecommunications company. You have a dataset with 5 features, including the customer's gender, age, contract type, monthly charges, and tenure. Which encoding technique(s) would you use to transform the categorical data into numerical data? Provide a step-by-step explanation of how you would implement the encoding."
   ]
  },
  {
   "cell_type": "markdown",
   "id": "8d2e9697-08ec-4cdc-bd8b-1f411d096a10",
   "metadata": {},
   "source": [
    "# Answers"
   ]
  },
  {
   "cell_type": "markdown",
   "id": "c407b3bc-6077-4938-a97d-478974653993",
   "metadata": {},
   "source": [
    "### Q1. What is data encoding? How is it useful in data science?"
   ]
  },
  {
   "cell_type": "markdown",
   "id": "16dfe173-3d23-4bc5-b46f-2564af5d2ef7",
   "metadata": {},
   "source": [
    "#### Data Encoding:\n",
    "Data encoding is the process of converting data from one format or representation to another. In the context of data science, data encoding often refers to converting categorical or textual data into numerical representations that can be effectively processed and used by machine learning algorithms. This is important because many machine learning algorithms, especially those used in statistical modeling and numerical analysis, require numerical input data.\n",
    "#### Use:\n",
    "When working on some datasets, we found that some of the features are categorical, if we pass that feature directly to our model, our model can't understand those feature variables. We all know that machines can't understand categorical data. Machines require all independent and dependent variables i.e input and output features to be numeric. This means that if our data contain a categorical variable, we must have to encode it to the numbers before we fit our data to the model."
   ]
  },
  {
   "cell_type": "markdown",
   "id": "c7181409-0e7a-403f-a8ef-e5f3195666a1",
   "metadata": {},
   "source": [
    "### Q2. What is nominal encoding? Provide an example of how you would use it in a real-world scenario."
   ]
  },
  {
   "cell_type": "markdown",
   "id": "43a505cc-eaf4-4e47-820b-1f2ba00685fd",
   "metadata": {},
   "source": [
    "### Nominal Encoding\n",
    "When we have a feature where variables are just names and there is no order or rank to this variable's feature.\n",
    "\n",
    "Example: \n",
    "City of person lives in, Gender of person, Marital Status,etc."
   ]
  },
  {
   "cell_type": "code",
   "execution_count": 2,
   "id": "a16554fe-7658-4257-b27d-d958325357a3",
   "metadata": {},
   "outputs": [],
   "source": [
    "import pandas as pd\n",
    "import seaborn as sns\n",
    "from sklearn.preprocessing import OneHotEncoder"
   ]
  },
  {
   "cell_type": "code",
   "execution_count": 3,
   "id": "e3df8227-aedc-410d-b0a3-16a1a09961cc",
   "metadata": {},
   "outputs": [],
   "source": [
    "df=sns.load_dataset(\"tips\")"
   ]
  },
  {
   "cell_type": "code",
   "execution_count": 4,
   "id": "00d5ae7b-5414-4dfe-8d53-82248e9a9a60",
   "metadata": {},
   "outputs": [
    {
     "data": {
      "text/html": [
       "<div>\n",
       "<style scoped>\n",
       "    .dataframe tbody tr th:only-of-type {\n",
       "        vertical-align: middle;\n",
       "    }\n",
       "\n",
       "    .dataframe tbody tr th {\n",
       "        vertical-align: top;\n",
       "    }\n",
       "\n",
       "    .dataframe thead th {\n",
       "        text-align: right;\n",
       "    }\n",
       "</style>\n",
       "<table border=\"1\" class=\"dataframe\">\n",
       "  <thead>\n",
       "    <tr style=\"text-align: right;\">\n",
       "      <th></th>\n",
       "      <th>total_bill</th>\n",
       "      <th>tip</th>\n",
       "      <th>sex</th>\n",
       "      <th>smoker</th>\n",
       "      <th>day</th>\n",
       "      <th>time</th>\n",
       "      <th>size</th>\n",
       "    </tr>\n",
       "  </thead>\n",
       "  <tbody>\n",
       "    <tr>\n",
       "      <th>0</th>\n",
       "      <td>16.99</td>\n",
       "      <td>1.01</td>\n",
       "      <td>Female</td>\n",
       "      <td>No</td>\n",
       "      <td>Sun</td>\n",
       "      <td>Dinner</td>\n",
       "      <td>2</td>\n",
       "    </tr>\n",
       "    <tr>\n",
       "      <th>1</th>\n",
       "      <td>10.34</td>\n",
       "      <td>1.66</td>\n",
       "      <td>Male</td>\n",
       "      <td>No</td>\n",
       "      <td>Sun</td>\n",
       "      <td>Dinner</td>\n",
       "      <td>3</td>\n",
       "    </tr>\n",
       "    <tr>\n",
       "      <th>2</th>\n",
       "      <td>21.01</td>\n",
       "      <td>3.50</td>\n",
       "      <td>Male</td>\n",
       "      <td>No</td>\n",
       "      <td>Sun</td>\n",
       "      <td>Dinner</td>\n",
       "      <td>3</td>\n",
       "    </tr>\n",
       "    <tr>\n",
       "      <th>3</th>\n",
       "      <td>23.68</td>\n",
       "      <td>3.31</td>\n",
       "      <td>Male</td>\n",
       "      <td>No</td>\n",
       "      <td>Sun</td>\n",
       "      <td>Dinner</td>\n",
       "      <td>2</td>\n",
       "    </tr>\n",
       "    <tr>\n",
       "      <th>4</th>\n",
       "      <td>24.59</td>\n",
       "      <td>3.61</td>\n",
       "      <td>Female</td>\n",
       "      <td>No</td>\n",
       "      <td>Sun</td>\n",
       "      <td>Dinner</td>\n",
       "      <td>4</td>\n",
       "    </tr>\n",
       "  </tbody>\n",
       "</table>\n",
       "</div>"
      ],
      "text/plain": [
       "   total_bill   tip     sex smoker  day    time  size\n",
       "0       16.99  1.01  Female     No  Sun  Dinner     2\n",
       "1       10.34  1.66    Male     No  Sun  Dinner     3\n",
       "2       21.01  3.50    Male     No  Sun  Dinner     3\n",
       "3       23.68  3.31    Male     No  Sun  Dinner     2\n",
       "4       24.59  3.61  Female     No  Sun  Dinner     4"
      ]
     },
     "execution_count": 4,
     "metadata": {},
     "output_type": "execute_result"
    }
   ],
   "source": [
    "df.head()"
   ]
  },
  {
   "cell_type": "code",
   "execution_count": 5,
   "id": "01c26867-1e2f-4165-a58b-f251b9b7dfe1",
   "metadata": {},
   "outputs": [],
   "source": [
    "encod=OneHotEncoder()"
   ]
  },
  {
   "cell_type": "code",
   "execution_count": 7,
   "id": "f40a18eb-4ec0-44a5-a969-c109aa4b04d3",
   "metadata": {},
   "outputs": [],
   "source": [
    "encod_sex=encod.fit_transform(df[['sex']])"
   ]
  },
  {
   "cell_type": "code",
   "execution_count": 8,
   "id": "8f3c8aa5-2413-4640-abc4-7b4580ebf897",
   "metadata": {},
   "outputs": [],
   "source": [
    "df_encode=pd.DataFrame(encod_sex.toarray(),columns=encod.get_feature_names_out())"
   ]
  },
  {
   "cell_type": "code",
   "execution_count": 9,
   "id": "8056e73e-d44c-45fb-8dca-3bb1e66a2c12",
   "metadata": {},
   "outputs": [
    {
     "data": {
      "text/html": [
       "<div>\n",
       "<style scoped>\n",
       "    .dataframe tbody tr th:only-of-type {\n",
       "        vertical-align: middle;\n",
       "    }\n",
       "\n",
       "    .dataframe tbody tr th {\n",
       "        vertical-align: top;\n",
       "    }\n",
       "\n",
       "    .dataframe thead th {\n",
       "        text-align: right;\n",
       "    }\n",
       "</style>\n",
       "<table border=\"1\" class=\"dataframe\">\n",
       "  <thead>\n",
       "    <tr style=\"text-align: right;\">\n",
       "      <th></th>\n",
       "      <th>sex_Female</th>\n",
       "      <th>sex_Male</th>\n",
       "    </tr>\n",
       "  </thead>\n",
       "  <tbody>\n",
       "    <tr>\n",
       "      <th>0</th>\n",
       "      <td>1.0</td>\n",
       "      <td>0.0</td>\n",
       "    </tr>\n",
       "    <tr>\n",
       "      <th>1</th>\n",
       "      <td>0.0</td>\n",
       "      <td>1.0</td>\n",
       "    </tr>\n",
       "    <tr>\n",
       "      <th>2</th>\n",
       "      <td>0.0</td>\n",
       "      <td>1.0</td>\n",
       "    </tr>\n",
       "    <tr>\n",
       "      <th>3</th>\n",
       "      <td>0.0</td>\n",
       "      <td>1.0</td>\n",
       "    </tr>\n",
       "    <tr>\n",
       "      <th>4</th>\n",
       "      <td>1.0</td>\n",
       "      <td>0.0</td>\n",
       "    </tr>\n",
       "  </tbody>\n",
       "</table>\n",
       "</div>"
      ],
      "text/plain": [
       "   sex_Female  sex_Male\n",
       "0         1.0       0.0\n",
       "1         0.0       1.0\n",
       "2         0.0       1.0\n",
       "3         0.0       1.0\n",
       "4         1.0       0.0"
      ]
     },
     "execution_count": 9,
     "metadata": {},
     "output_type": "execute_result"
    }
   ],
   "source": [
    "df_encode.head()"
   ]
  },
  {
   "cell_type": "markdown",
   "id": "588be0c4-ab74-4515-af6b-e723866a8e13",
   "metadata": {},
   "source": [
    "### Q3. In what situations is nominal encoding preferred over one-hot encoding? Provide a practical example."
   ]
  },
  {
   "cell_type": "markdown",
   "id": "4105e9b2-8807-4050-8854-5e8e9e2e466a",
   "metadata": {},
   "source": [
    "Nominal encoding is preferred over one-hot encoding in situations where the categorical variable represents distinct categories without any inherent order or ranking. In other words, when the categories are nominal in nature and don't have a meaningful sequence or relationship, nominal encoding is more appropriate.\n",
    "\n",
    "### Situations: \n",
    "Suppose you are analyzing customer feedback for a restaurant. One of the features you're dealing with is \"Dish Type,\" which represents the type of dish a customer is providing feedback on. The categories are: Appetizer, Main Course, Dessert, Beverage, and Side Dish. These categories don't have any inherent order or ranking; they are simply different types of dishes.\n",
    "\n",
    "Customer ID:[1,2,3,4,5]\n",
    "\n",
    "Dish Type:[ Appetizer, Main Course, Dessert,Appetizer,Side Dish.]\n",
    "\n",
    "Dish Type (Label Encoded):[1,2,3,1,4]\n"
   ]
  },
  {
   "cell_type": "markdown",
   "id": "2999df7f-2ded-4600-82da-e767cff53786",
   "metadata": {},
   "source": [
    "### Q4. Suppose you have a dataset containing categorical data with 5 unique values. Which encoding technique would you use to transform this data into a format suitable for machine learning algorithms? Explain why you made this choice.\n"
   ]
  },
  {
   "cell_type": "markdown",
   "id": "1929e771-fdfb-40be-8375-a0ac4c61b684",
   "metadata": {},
   "source": [
    "For transforming categorical data into numerical data, there are several encoding techniques we can consider. In this scenario,categorical data with 5 unique values then we can choose the LEBEL ENCODING if there is any order or ranking is present in the data.\n",
    "If there is not any order or ranking so we should go for ONE HOT ENCDING for unique value one hot encoding is best. Beacuse  One-Hot Encoding is the preferred technique as it maintains the integrity of the categorical information without introducing unintended ordinal or numerical interpretations."
   ]
  },
  {
   "cell_type": "markdown",
   "id": "5861631f-d635-41b9-b8a6-348fe7e022f6",
   "metadata": {},
   "source": [
    "### Q5. In a machine learning project, you have a dataset with 1000 rows and 5 columns. Two of the columns are categorical, and the remaining three columns are numerical. If you were to use nominal encoding to transform the categorical data, how many new columns would be created? Show your calculations."
   ]
  },
  {
   "cell_type": "markdown",
   "id": "97639482-0a63-4bfe-ac80-600ab19a0e63",
   "metadata": {},
   "source": [
    "If you were to use nominal encoding (specifically, One-Hot Encoding) to transform the categorical data, you would create a new binary column for each unique category in the categorical columns. \n",
    "\n",
    "Let's assume:\n",
    "\n",
    "Column 1 has \"n\" unique categories.\n",
    "Column 2 has \"m\" unique categories.\n",
    "For each unique category in each column, a new binary column is created. Therefore, the total number of new columns created would be:\n",
    "\n",
    "Number of new columns = Number of unique categories in Column 1 + Number of unique categories in Column 2\n",
    "= n + m\n",
    "\n",
    "Let's say you have 5 unique categories in Column 1 (n = 5) and 10 unique categories in Column 2 (m = 10). Then:\n",
    "\n",
    "Number of new columns = 5 + 10\n",
    "= 15"
   ]
  },
  {
   "cell_type": "markdown",
   "id": "eedf7ec7-1d5b-4c04-90f8-248cde3c089e",
   "metadata": {},
   "source": [
    "### Q6. You are working with a dataset containing information about different types of animals, including their species, habitat, and diet. Which encoding technique would you use to transform the categorical data into a format suitable for machine learning algorithms? Justify your answer.\n"
   ]
  },
  {
   "cell_type": "markdown",
   "id": "de988a35-7dd0-434d-b994-099e9a33849f",
   "metadata": {},
   "source": [
    "One-Hot Encoding is ideal when dealing with nominal categorical data, where categories don't have any inherent order or ranking. In the case of animal data, species, habitat, and diet categories are likely to be nominal. Using One-Hot Encoding ensures that each category is represented as a separate binary column, preserving the individuality of each category without introducing any unintended relationships.\n",
    "\n",
    "One-Hot Encoding is a suitable technique for transforming categorical animal data into a format that retains the integrity of categorical information and is compatible with a wide range of machine learning algorithms."
   ]
  },
  {
   "cell_type": "markdown",
   "id": "1aba3d6f-44c6-45f1-a476-27bf24c43f8c",
   "metadata": {},
   "source": [
    "### Q7.You are working on a project that involves predicting customer churn for a telecommunications company. You have a dataset with 5 features, including the customer's gender, age, contract type, monthly charges, and tenure. Which encoding technique(s) would you use to transform the categorical data into numerical data? Provide a step-by-step explanation of how you would implement the encoding."
   ]
  },
  {
   "cell_type": "markdown",
   "id": "b18d8425-0264-4267-8bf4-a98b8ad6a3e4",
   "metadata": {},
   "source": [
    "For transforming categorical data into numerical data, there are several encoding techniques we can consider. In this scenario, where we have features like gender and contract type are categoriacal varibale\n",
    "Gender (Categorical: Male/Female)\n",
    "Age (Numerical)\n",
    "Contract Type (Categorical: Month-to-Month, One Year, Two Year)\n",
    "Monthly Charges (Numerical)\n",
    "Tenure (Numerical)\n",
    "\n",
    "In Gender Column there are only two vlaues so it can use One-Hot-Encoding efficently \n",
    "In Contract type as for my convention it contain only three value so in this we can also use the One-Hot-Encoding\n",
    "\n",
    "Step 1:\n",
    "import the sklearn.prepocessing\n",
    "\n",
    "from sklearn.preprocessing import OneHotEncoder\n",
    "\n",
    "Step 2:\n",
    "Create an object of OneHotEncoder\n",
    "encoder=OneHotEncoder()\n",
    "\n",
    "Step 3:\n",
    "transfor the value using fit_transform()\n",
    "encoded=encoder.fit_transform(df[['Gender']])\n",
    "\n",
    "Step 4:\n",
    "convet the value in the DataFrame formate and use it."
   ]
  },
  {
   "cell_type": "code",
   "execution_count": null,
   "id": "950b1d65-2d92-42f3-a4c7-a64f1a801bac",
   "metadata": {},
   "outputs": [],
   "source": []
  },
  {
   "cell_type": "code",
   "execution_count": null,
   "id": "6b2d97c8-bba7-43aa-9056-63a9aa4d6e66",
   "metadata": {},
   "outputs": [],
   "source": []
  },
  {
   "cell_type": "code",
   "execution_count": null,
   "id": "1192e1f7-71ce-464f-8845-d70a0b95f8dc",
   "metadata": {},
   "outputs": [],
   "source": []
  },
  {
   "cell_type": "code",
   "execution_count": null,
   "id": "cd656243-7b61-4491-80e2-037683c9fe82",
   "metadata": {},
   "outputs": [],
   "source": []
  }
 ],
 "metadata": {
  "kernelspec": {
   "display_name": "Python 3 (ipykernel)",
   "language": "python",
   "name": "python3"
  },
  "language_info": {
   "codemirror_mode": {
    "name": "ipython",
    "version": 3
   },
   "file_extension": ".py",
   "mimetype": "text/x-python",
   "name": "python",
   "nbconvert_exporter": "python",
   "pygments_lexer": "ipython3",
   "version": "3.10.8"
  }
 },
 "nbformat": 4,
 "nbformat_minor": 5
}
